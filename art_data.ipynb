{
 "cells": [
  {
   "cell_type": "code",
   "execution_count": 1,
   "metadata": {},
   "outputs": [],
   "source": [
    "import requests"
   ]
  },
  {
   "cell_type": "code",
   "execution_count": 49,
   "metadata": {},
   "outputs": [],
   "source": [
    "url = \"http://www.vondel.humanities.uva.nl/ecartico/api/search/\"\n",
    "headers = {\n",
    "    'Accept' : 'applications/json'\n",
    "}\n",
    "params = {\n",
    "    'deathplace' : \"Italië\"\n",
    "}\n",
    "\n",
    "response = requests.get(url, headers = headers, params = params).json()\n"
   ]
  },
  {
   "cell_type": "code",
   "execution_count": 50,
   "metadata": {},
   "outputs": [],
   "source": [
    "#response"
   ]
  },
  {
   "cell_type": "code",
   "execution_count": 51,
   "metadata": {},
   "outputs": [
    {
     "data": {
      "text/plain": [
       "'http://www.vondel.humanities.uva.nl/ecartico/persons/1457'"
      ]
     },
     "execution_count": 51,
     "metadata": {},
     "output_type": "execute_result"
    }
   ],
   "source": [
    "response['persons'][1]['uri']"
   ]
  },
  {
   "cell_type": "markdown",
   "metadata": {},
   "source": [
    "Extracts URI of the artists"
   ]
  },
  {
   "cell_type": "code",
   "execution_count": 56,
   "metadata": {},
   "outputs": [],
   "source": [
    "dict_uri = {}\n",
    "\n",
    "i = 0\n",
    "for x in response['persons']:\n",
    "    i+=1\n",
    "    #print(i)\n",
    "    temp_uri = x['birthplace']\n",
    "    temp_first = x['firstname']\n",
    "    temp_last = x['uri']\n",
    "    #print(temp_last)\n",
    "    dict_uri[i] = [temp_last, temp_first, temp_uri]\n",
    "    #print(x['uri'])\n",
    "     #print(x['firstname'])\n",
    "    #print(x['patronym'])"
   ]
  },
  {
   "cell_type": "code",
   "execution_count": 57,
   "metadata": {},
   "outputs": [
    {
     "data": {
      "text/plain": [
       "{1: ['http://www.vondel.humanities.uva.nl/ecartico/persons/224',\n",
       "  'Jacob',\n",
       "  'Antwerpen'],\n",
       " 2: ['http://www.vondel.humanities.uva.nl/ecartico/persons/1457',\n",
       "  'Jan Pieter',\n",
       "  'Antwerpen'],\n",
       " 3: ['http://www.vondel.humanities.uva.nl/ecartico/persons/3141',\n",
       "  'Joost',\n",
       "  None],\n",
       " 4: ['http://www.vondel.humanities.uva.nl/ecartico/persons/6077',\n",
       "  'Michel',\n",
       "  'Luik'],\n",
       " 5: ['http://www.vondel.humanities.uva.nl/ecartico/persons/6289',\n",
       "  'Pieter',\n",
       "  'Delft'],\n",
       " 6: ['http://www.vondel.humanities.uva.nl/ecartico/persons/6360',\n",
       "  'Salomon',\n",
       "  'Haarlem'],\n",
       " 7: ['http://www.vondel.humanities.uva.nl/ecartico/persons/6704',\n",
       "  'Lucas',\n",
       "  'Antwerpen'],\n",
       " 8: ['http://www.vondel.humanities.uva.nl/ecartico/persons/6963',\n",
       "  'Jan Frans',\n",
       "  'Antwerpen'],\n",
       " 9: ['http://www.vondel.humanities.uva.nl/ecartico/persons/7908',\n",
       "  'Lambrecht',\n",
       "  'Haarlem'],\n",
       " 10: ['http://www.vondel.humanities.uva.nl/ecartico/persons/10045',\n",
       "  'Daniel',\n",
       "  'Antwerpen']}"
      ]
     },
     "execution_count": 57,
     "metadata": {},
     "output_type": "execute_result"
    }
   ],
   "source": [
    "dict_uri"
   ]
  },
  {
   "cell_type": "code",
   "execution_count": null,
   "metadata": {},
   "outputs": [],
   "source": []
  }
 ],
 "metadata": {
  "kernelspec": {
   "display_name": "Python 3",
   "language": "python",
   "name": "python3"
  },
  "language_info": {
   "codemirror_mode": {
    "name": "ipython",
    "version": 3
   },
   "file_extension": ".py",
   "mimetype": "text/x-python",
   "name": "python",
   "nbconvert_exporter": "python",
   "pygments_lexer": "ipython3",
   "version": "3.7.6"
  }
 },
 "nbformat": 4,
 "nbformat_minor": 4
}
